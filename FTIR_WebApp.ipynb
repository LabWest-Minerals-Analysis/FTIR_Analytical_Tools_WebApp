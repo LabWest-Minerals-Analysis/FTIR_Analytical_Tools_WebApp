{
 "cells": [
  {
   "cell_type": "markdown",
   "metadata": {},
   "source": [
    "# Python automated workflow for LabWest to assess FTIR data"
   ]
  },
  {
   "cell_type": "code",
   "execution_count": null,
   "metadata": {},
   "outputs": [],
   "source": [
    "%run -i FTIR/FTIR_importing_libraries.py\n",
    "%config Completer.use_jedi = False"
   ]
  },
  {
   "cell_type": "markdown",
   "metadata": {},
   "source": [
    "## 1.1 Upload dft files\n",
    "\n",
    "**Warnings**\n",
    "\n",
    "-- Either if sample is named '7.1' or '7.0', it will be renamed to '7'.\n",
    "\n",
    "-- If a sample has been read twice and there are two raws files '90.0' and '90.1', an error message will pop up.\n",
    "\n",
    "-- If a smaple name is not an integer, an error message will pop up. \n",
    "\n",
    "**Select dpt files (FTIR raw files).**\n"
   ]
  },
  {
   "cell_type": "code",
   "execution_count": null,
   "metadata": {},
   "outputs": [],
   "source": [
    "%run -i FTIR/First_FTIR_DPT_files_to_CSV_WebApp.py"
   ]
  },
  {
   "cell_type": "markdown",
   "metadata": {},
   "source": [
    "## 1.2 Upload Results file\n",
    "\n",
    "**Warnings**\n",
    "\n",
    "-- If a sample has 'Clay_abun' lower than 30%.\n",
    "\n",
    "-- If a sample has the sum of 'Clay_abun', 'Qtz_abun', 'Carb_abun' and 'TOC' lower than 40%.\n",
    "\n",
    "Such as 'ALW00XXXX DPT.csv'."
   ]
  },
  {
   "cell_type": "code",
   "execution_count": null,
   "metadata": {},
   "outputs": [],
   "source": [
    "%run -i FTIR/First2_FTIR_Results_file_WebApp.py"
   ]
  },
  {
   "cell_type": "code",
   "execution_count": null,
   "metadata": {},
   "outputs": [],
   "source": [
    "#Check the dataframe so far\n",
    "res.style"
   ]
  },
  {
   "cell_type": "markdown",
   "metadata": {},
   "source": [
    "## 2. QC assessment\n",
    "Firstly, we have to select the file 'SampleID_matching_list.csv' that will be used to match the Sample ID from the instrument with the Client Sample ID (Client ID). This file, 'SampleID_matching_list.csv', is in the cloud in the cloud."
   ]
  },
  {
   "cell_type": "code",
   "execution_count": null,
   "metadata": {},
   "outputs": [],
   "source": [
    "%run -i FTIR/Second1_FTIR_QC_Assessment_WebApp.py"
   ]
  },
  {
   "cell_type": "code",
   "execution_count": null,
   "metadata": {},
   "outputs": [],
   "source": [
    "#check this matching lists between the Sample ID from the instrument with the Client Sample ID (Client ID)\n",
    "df_FTIR_sample_list"
   ]
  },
  {
   "cell_type": "markdown",
   "metadata": {},
   "source": [
    "Secondly, we need to import the file 'FTIR_QC_STDs_Validated.csv' where are stored the information of expected readings of our standards and their SD ('ConentrationClassification', 'Conentration' and\t'SD' in df_QC).\n",
    "Then, the res dataframe is merged with the info from this df_QC."
   ]
  },
  {
   "cell_type": "code",
   "execution_count": null,
   "metadata": {},
   "outputs": [],
   "source": [
    "%run -i FTIR/Second2_FTIR_QC_Assessment.py"
   ]
  },
  {
   "cell_type": "code",
   "execution_count": null,
   "metadata": {},
   "outputs": [],
   "source": [
    "#Check the dataframe so far\n",
    "df3=df.copy()\n",
    "df3.style"
   ]
  },
  {
   "cell_type": "markdown",
   "metadata": {},
   "source": [
    "QC readings that are not within two standard deviations are hilight in blue. Conditional Formatting."
   ]
  },
  {
   "cell_type": "code",
   "execution_count": null,
   "metadata": {
    "scrolled": false
   },
   "outputs": [],
   "source": [
    "%run -i FTIR/Second3_FTIR_QC_Assessment.py"
   ]
  },
  {
   "cell_type": "markdown",
   "metadata": {},
   "source": [
    "Each Refernce Material has a chart. For example, QC_UFF_320 has a chart and REFSAM_STD has a chart. Each chart contains the FTIR spectrum of all readings."
   ]
  },
  {
   "cell_type": "code",
   "execution_count": null,
   "metadata": {
    "scrolled": false
   },
   "outputs": [],
   "source": [
    "%run -i FTIR/Second4_FTIR_QC_Assessment_WebApp.py"
   ]
  },
  {
   "cell_type": "markdown",
   "metadata": {},
   "source": [
    "Plot the FTIR Spectrum of a sinlge sample or multiple samples. You have to manually rename the variable 'files' after the name of raw spectrum files. \n",
    "\n",
    "For instance, choose samples '4.0' and/or 'Gruyere-5.0.dpt'."
   ]
  },
  {
   "cell_type": "code",
   "execution_count": null,
   "metadata": {},
   "outputs": [],
   "source": [
    "#manually change the first line according with the 'Sample' column of the table above. \n",
    "#For example: # file2 = [files[0],'4.0'] # file2 = ['Gruyere-5.0.dpt'] # file2 = ['4.0'] # file2 = [files[0]] # file2 = '4.0' \n",
    "file2 = [files[0],files[1]] # file2 = ['1.0','2.0']\n",
    "%run -i FTIR/Second5_FTIR_QC_Assessment_WebApp.py"
   ]
  }
 ],
 "metadata": {
  "kernelspec": {
   "display_name": "Python 3 (ipykernel)",
   "language": "python",
   "name": "python3"
  },
  "language_info": {
   "codemirror_mode": {
    "name": "ipython",
    "version": 3
   },
   "file_extension": ".py",
   "mimetype": "text/x-python",
   "name": "python",
   "nbconvert_exporter": "python",
   "pygments_lexer": "ipython3",
   "version": "3.8.11"
  }
 },
 "nbformat": 4,
 "nbformat_minor": 4
}
