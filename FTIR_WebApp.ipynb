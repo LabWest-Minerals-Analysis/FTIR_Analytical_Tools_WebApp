{
 "cells": [
  {
   "cell_type": "markdown",
   "metadata": {},
   "source": [
    "# Python automated workflow for LabWest to process FTIR data"
   ]
  },
  {
   "cell_type": "code",
   "execution_count": null,
   "metadata": {},
   "outputs": [],
   "source": [
    "%run -i FTIR/FTIR_importing_libraries.py\n",
    "%config Completer.use_jedi = False"
   ]
  },
  {
   "cell_type": "markdown",
   "metadata": {},
   "source": [
    "## 1. Generate csv files\n",
    "\n",
    "**clay** \n",
    "- x = (peak + 0.026)/0.0013\n",
    "- (-, 1) = Null \n",
    "- (1, 90) = value,\n",
    "- (90, +) = 90\n",
    "\n",
    "**toc** \n",
    "- x = (peak - 0.0032)/0.0027\n",
    "\n",
    "- (-, 0.5) = Null\n",
    "- (0.5, 15) = value,\n",
    "- (15, +) = 15\n",
    "\n",
    "**carbonate** \n",
    "- x= (peak + 0.0016)/0.0135\n",
    "\n",
    "- (-, 1.0) = Null\n",
    "- (1.0, 40) = value,\n",
    "- (40, +) = 40\n",
    "\n",
    "**quartz** \n",
    "- x = (peak + 0.0046)/0.0048\n",
    "\n",
    "- (-, 1.0) = Null\n",
    "- (1.0, 12) = value,\n",
    "- (12, +) = 12\n",
    "\n",
    "\n",
    "**Gibbsite** \n",
    "- x = peak area\n",
    "\n",
    "- (-, 0.019) = Null; \n",
    "- (0.02, 0.19) = Low; \n",
    "- (0.2, 0.59) = Medium; \n",
    "- (>0.6) = High\n",
    "\n",
    "Remind to first close the file 'result.csv', otherwise it can not be overwritten. Select the DPT folder of a job. A folder named DPT is going to be created in the folder 'output' and DPT files are copied over.\n",
    "\n",
    "**Warnings**\n",
    "\n",
    "-- Either if sample is named '7.1' or '7.0', it will be renamed to '7'.\n",
    "\n",
    "-- If a sample has been read twice and there are two raws files '90.0' and '90.1', an error message will pop up.\n",
    "\n",
    "-- If a smaple name is not an integer, an error message will pop up. \n",
    "\n",
    "**Select the dpt files (FTIR raw files).** 'FTIR_results.csv' has been created. Downlowad it (Ctrl+Shift+F) \n"
   ]
  },
  {
   "cell_type": "code",
   "execution_count": null,
   "metadata": {},
   "outputs": [],
   "source": [
    "%run -i FTIR/First_FTIR_DPT_files_to_CSV_WebApp.py"
   ]
  },
  {
   "cell_type": "code",
   "execution_count": null,
   "metadata": {},
   "outputs": [],
   "source": [
    "#Check the dataframe so far\n",
    "res.style"
   ]
  },
  {
   "cell_type": "markdown",
   "metadata": {},
   "source": [
    "## 2. QC assessment\n",
    "Firstly, we have to select the file 'SampleID_matching_list.csv' that will be used to match the Sample ID from the instrument with the Client Sample ID (Client ID). This file, 'SampleID_matching_list.csv', is in the cloud in the cloud."
   ]
  },
  {
   "cell_type": "code",
   "execution_count": null,
   "metadata": {},
   "outputs": [],
   "source": [
    "%run -i FTIR/Second1_FTIR_QC_Assessment_WebApp.py"
   ]
  },
  {
   "cell_type": "code",
   "execution_count": null,
   "metadata": {},
   "outputs": [],
   "source": [
    "#check this matching lists between the Sample ID from the instrument with the Client Sample ID (Client ID)\n",
    "df_FTIR_sample_list"
   ]
  },
  {
   "cell_type": "markdown",
   "metadata": {},
   "source": [
    "Secondly, we need to import the file 'FTIR_QC_STDs_Validated.csv' where are stored the information of expected readings of our standards and their SD ('ConentrationClassification', 'Conentration' and\t'SD' in df_QC).\n",
    "Then, the res dataframe is merged with the info from this df_QC."
   ]
  },
  {
   "cell_type": "code",
   "execution_count": null,
   "metadata": {},
   "outputs": [],
   "source": [
    "%run -i FTIR/Second2_FTIR_QC_Assessment.py"
   ]
  },
  {
   "cell_type": "code",
   "execution_count": null,
   "metadata": {},
   "outputs": [],
   "source": [
    "#Check the dataframe so far\n",
    "df3=df.copy()\n",
    "df3.style"
   ]
  },
  {
   "cell_type": "markdown",
   "metadata": {},
   "source": [
    "For those readings that are out, we hilighting them in blue. Conditional Formatting."
   ]
  },
  {
   "cell_type": "code",
   "execution_count": null,
   "metadata": {
    "scrolled": true
   },
   "outputs": [],
   "source": [
    "%run -i FTIR/Second3_FTIR_QC_Assessment.py"
   ]
  },
  {
   "cell_type": "markdown",
   "metadata": {},
   "source": [
    "Each Refernce Material has a chart. For example, QC_UFF_320 chart and REFSAM_STD chart. Each chart contains the FTIR spectrum of all readings."
   ]
  },
  {
   "cell_type": "code",
   "execution_count": null,
   "metadata": {
    "scrolled": false
   },
   "outputs": [],
   "source": [
    "%run -i FTIR/Second4_FTIR_QC_Assessment_WebApp.py"
   ]
  },
  {
   "cell_type": "markdown",
   "metadata": {},
   "source": [
    "Plot the FTIR Spectrum of a sinlge sample. You have to manually rename the variable 'file' after the name of raw spectrum file. For instance, choose sample '4.0' or 'Gruyere-5.0.dpt'."
   ]
  },
  {
   "cell_type": "code",
   "execution_count": null,
   "metadata": {},
   "outputs": [],
   "source": [
    "#'153.0' #files[0] #manually change this line according with the 'Sample' column of the table above. \n",
    "#For example: # file = 'Gruyere-5.0.dpt' # file = '4.0'\n",
    "file = files[0]\n",
    "%run -i FTIR/Second5_FTIR_QC_Assessment_WebApp.py"
   ]
  }
 ],
 "metadata": {
  "kernelspec": {
   "display_name": "Python 3 (ipykernel)",
   "language": "python",
   "name": "python3"
  },
  "language_info": {
   "codemirror_mode": {
    "name": "ipython",
    "version": 3
   },
   "file_extension": ".py",
   "mimetype": "text/x-python",
   "name": "python",
   "nbconvert_exporter": "python",
   "pygments_lexer": "ipython3",
   "version": "3.8.11"
  }
 },
 "nbformat": 4,
 "nbformat_minor": 4
}
